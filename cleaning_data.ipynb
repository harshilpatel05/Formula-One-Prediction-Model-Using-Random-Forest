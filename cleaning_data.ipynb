{
 "cells": [
  {
   "cell_type": "code",
   "execution_count": 112,
   "metadata": {},
   "outputs": [],
   "source": [
    "import pandas "
   ]
  },
  {
   "cell_type": "code",
   "execution_count": 113,
   "metadata": {},
   "outputs": [],
   "source": [
    "dataframeResults = pandas.read_csv(\"subdataset/results.csv\")\n",
    "dataframeDrivers = pandas.read_csv(\"subdataset/drivers.csv\")\n",
    "dataframeConstructors = pandas.read_csv(\"subdataset/constructors.csv\")\n",
    "dataframeStatus = pandas.read_csv(\"subdataset/status.csv\")\n",
    "dataframeRaces = pandas.read_csv(\"subdataset/races.csv\")"
   ]
  },
  {
   "cell_type": "code",
   "execution_count": 114,
   "metadata": {},
   "outputs": [],
   "source": [
    "dataframeResults = dataframeResults.merge(dataframeDrivers, on = \"driverId\", how = \"left\")\n",
    "dataframeResults = dataframeResults.merge(dataframeConstructors, on = \"constructorId\", how = \"left\")\n",
    "dataframeResults = dataframeResults.merge(dataframeStatus, on = \"statusId\", how = \"left\")\n",
    "dataframeResults = dataframeResults.merge(dataframeRaces, on = \"raceId\", how=\"left\")\n",
    "dataframeResults = dataframeResults.drop(columns=[\"driverId\",\"constructorId\",'url_x','nationality_x','url_y','nationality_y','statusId'])\n",
    "dataframeResults = dataframeResults.drop(columns=[\"dob\",\"positionText\",\"positionOrder\",\"number_x\",\"number_y\"])\n",
    "dataframeResults = dataframeResults.drop(columns=[\"fp1_date\",\"fp1_time\",\"fp2_date\",\"fp2_time\",\"fp3_date\",\"fp3_time\"])\n",
    "dataframeResults = dataframeResults.drop(columns=[\"quali_date\",\"quali_time\",\"sprint_date\",\"sprint_time\",\"url\",\"time_y\",\"date\"])\n",
    "dataframeResults = dataframeResults.drop(columns=[\"resultId\",\"code\",\"circuitId\",\"forename\",\"surname\"])\n",
    "dataframeResults = dataframeResults.drop(columns=[\"rank\",\"fastestLap\",\"round\",\"time_x\",\"raceId\",\"name_x\"])\n",
    "dataframeResults = dataframeResults.loc[:,[\"year\",\"name_y\",\"driverRef\",\"constructorRef\",\"grid\",\"position\",\"points\",\"status\",\"fastestLapTime\",\"fastestLapSpeed\",\"laps\",\"milliseconds\"]]\n",
    "dataframeResults = dataframeResults.replace(\"\\\\N\",\"NaN\")"
   ]
  },
  {
   "cell_type": "code",
   "execution_count": 116,
   "metadata": {},
   "outputs": [],
   "source": [
    "dataframeResults.to_csv(\"dataset.csv\")"
   ]
  },
  {
   "cell_type": "code",
   "execution_count": null,
   "metadata": {},
   "outputs": [],
   "source": []
  }
 ],
 "metadata": {
  "kernelspec": {
   "display_name": "Python 3",
   "language": "python",
   "name": "python3"
  },
  "language_info": {
   "codemirror_mode": {
    "name": "ipython",
    "version": 3
   },
   "file_extension": ".py",
   "mimetype": "text/x-python",
   "name": "python",
   "nbconvert_exporter": "python",
   "pygments_lexer": "ipython3",
   "version": "3.13.1"
  }
 },
 "nbformat": 4,
 "nbformat_minor": 2
}
